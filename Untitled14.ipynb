{
 "cells": [
  {
   "cell_type": "code",
   "execution_count": 337,
   "id": "e2a53bea",
   "metadata": {},
   "outputs": [],
   "source": [
    "import math \n",
    "import pandas as pd\n",
    "import numpy as np"
   ]
  },
  {
   "cell_type": "code",
   "execution_count": 339,
   "id": "a4809033",
   "metadata": {},
   "outputs": [
    {
     "name": "stdout",
     "output_type": "stream",
     "text": [
      "{0: {0: 51, 1: 49}, 1: {1: 54, 0: 46}, 2: {0: 46, 1: 54}, 3: {1: 55, 0: 45}, 4: {0: 49, 1: 51}, 5: {1: 51, 0: 49}, 6: {1: 45, 0: 55}, 7: {0: 44, 1: 56}, 8: {0: 48, 1: 52}, 9: {0: 47, 1: 53}}\n"
     ]
    }
   ],
   "source": [
    "# Algorithm to randomy distribute values\n",
    "\n",
    "# Dictionary of decisions\n",
    "dic = {}\n",
    "\n",
    "\n",
    "import random\n",
    "\n",
    "x = 10\n",
    "\n",
    "for j in range(x):\n",
    "    # number of categories (number of keys in the dictionary) and items (sum of all the value)\n",
    "    x, y = 1, 100\n",
    "    snpDict = {}\n",
    "    i = 0\n",
    "    while i < y:\n",
    "        a = random.randint(0, x)\n",
    "        if a in snpDict:\n",
    "            snpDict[a] += 1\n",
    "        else:\n",
    "            snpDict[a] = 1\n",
    "\n",
    "        i += 1\n",
    "\n",
    "    dic[j] = snpDict\n",
    "    \n",
    "print(dic)"
   ]
  },
  {
   "cell_type": "code",
   "execution_count": 340,
   "id": "7b63610f",
   "metadata": {},
   "outputs": [
    {
     "name": "stdout",
     "output_type": "stream",
     "text": [
      "{0: 0.9980008838722996, 1: 0.007990621330971727, 2: 0.9975025463691152}\n"
     ]
    }
   ],
   "source": [
    "# Inputs list of numbers (the distribution)\n",
    "def entropy(sete):\n",
    "    n = []\n",
    "    su = 0\n",
    "# For each value in the list\n",
    "    for i in sete:\n",
    "#         Value for proportion for given value\n",
    "        proportion = (i/(sum(sete)))\n",
    "#     Entropy formula\n",
    "        entrop = (proportion * (math.log2(proportion)))\n",
    "#     Add entropy value of given class to list\n",
    "        n.append(entrop)\n",
    "#     Sum the list \n",
    "        su = sum(n)\n",
    "#     Take negative\n",
    "        su = -su\n",
    "# return entropy of set\n",
    "    return su\n",
    "\n",
    "entropy_values = {}\n",
    "\n",
    "# Adding \n",
    "for i in range(len(set_of_entropies)):\n",
    "    entropy_values.update({i:entropy(set_of_entropies[i])})\n",
    "    \n",
    "print(entropy_values)\n",
    "\n"
   ]
  },
  {
   "cell_type": "code",
   "execution_count": 341,
   "id": "4e082315",
   "metadata": {},
   "outputs": [
    {
     "name": "stdout",
     "output_type": "stream",
     "text": [
      "Decision 0:\n",
      "  Class 0: 51\n",
      "  Class 1: 49\n",
      "Decision: [51, 49]\n",
      "Decision 1:\n",
      "  Class 1: 54\n",
      "  Class 0: 46\n",
      "Decision: [54, 46]\n",
      "Decision 2:\n",
      "  Class 0: 46\n",
      "  Class 1: 54\n",
      "Decision: [46, 54]\n",
      "Decision 3:\n",
      "  Class 1: 55\n",
      "  Class 0: 45\n",
      "Decision: [55, 45]\n",
      "Decision 4:\n",
      "  Class 0: 49\n",
      "  Class 1: 51\n",
      "Decision: [49, 51]\n",
      "Decision 5:\n",
      "  Class 1: 51\n",
      "  Class 0: 49\n",
      "Decision: [51, 49]\n",
      "Decision 6:\n",
      "  Class 1: 45\n",
      "  Class 0: 55\n",
      "Decision: [45, 55]\n",
      "Decision 7:\n",
      "  Class 0: 44\n",
      "  Class 1: 56\n",
      "Decision: [44, 56]\n",
      "Decision 8:\n",
      "  Class 0: 48\n",
      "  Class 1: 52\n",
      "Decision: [48, 52]\n",
      "Decision 9:\n",
      "  Class 0: 47\n",
      "  Class 1: 53\n",
      "Decision: [47, 53]\n",
      "Entropy dictionary: {0: 0.9997114417528099, 1: 0.9953784388202257, 2: 0.9953784388202257, 3: 0.9927744539878083, 4: 0.9997114417528099, 5: 0.9997114417528099, 6: 0.9927744539878083, 7: 0.9895875212220556, 8: 0.9988455359952018, 9: 0.9974015885677396}\n"
     ]
    }
   ],
   "source": [
    "# Create entropy dictionary \n",
    "entropy_dictionary = {}\n",
    "# Iterate through the main dictionary\n",
    "for outer_key, inner_dict in dic.items():\n",
    "    print(f\"Decision {outer_key}:\")\n",
    "    temp_list = []\n",
    "    for inner_key, value in inner_dict.items():\n",
    "        temp_list.append(value)\n",
    "        print(f\"  Class {inner_key}: {value}\")\n",
    "    print('Decision:', temp_list)\n",
    "    entropy_dictionary[outer_key] = entropy(temp_list)\n",
    "    \n",
    "    \n",
    "\n",
    "print('Entropy dictionary:', entropy_dictionary)\n",
    "    \n",
    "        \n"
   ]
  },
  {
   "cell_type": "code",
   "execution_count": null,
   "id": "a083855b",
   "metadata": {},
   "outputs": [],
   "source": []
  }
 ],
 "metadata": {
  "kernelspec": {
   "display_name": "Python 3 (ipykernel)",
   "language": "python",
   "name": "python3"
  },
  "language_info": {
   "codemirror_mode": {
    "name": "ipython",
    "version": 3
   },
   "file_extension": ".py",
   "mimetype": "text/x-python",
   "name": "python",
   "nbconvert_exporter": "python",
   "pygments_lexer": "ipython3",
   "version": "3.11.5"
  }
 },
 "nbformat": 4,
 "nbformat_minor": 5
}
